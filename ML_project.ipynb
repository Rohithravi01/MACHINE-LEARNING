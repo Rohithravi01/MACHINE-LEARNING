{
  "nbformat": 4,
  "nbformat_minor": 0,
  "metadata": {
    "colab": {
      "name": "ML_project.ipynb",
      "provenance": [],
      "collapsed_sections": []
    },
    "kernelspec": {
      "name": "python3",
      "display_name": "Python 3"
    },
    "language_info": {
      "name": "python"
    }
  },
  "cells": [
    {
      "cell_type": "code",
      "metadata": {
        "colab": {
          "base_uri": "https://localhost:8080/"
        },
        "id": "2wZSi8FwMWes",
        "outputId": "a346bac8-db79-48d1-d0e3-f1a5c9e38ea5"
      },
      "source": [
        "Lllfrom google.colab import drive\n",
        "drive.mount(\"/content/drive\", force_remount=True)"
      ],
      "execution_count": null,
      "outputs": [
        {
          "output_type": "stream",
          "text": [
            "Mounted at /content/drive\n"
          ],
          "name": "stdout"
        }
      ]
    },
    {
      "cell_type": "markdown",
      "metadata": {
        "id": "ggHhncmPSyRQ"
      },
      "source": [
        "## **Reading the Extrated CSV file and saving the File within notebook**"
      ]
    },
    {
      "cell_type": "code",
      "metadata": {
        "id": "2hZw-haCOvG_"
      },
      "source": [
        "import pandas as pd\n",
        "\n",
        "d = pd.read_csv(\"/content/drive/MyDrive/Tele_Communication_Churn\")\n",
        "d.to_csv(\"Tele_com_customer_churn\", index=False)"
      ],
      "execution_count": null,
      "outputs": []
    },
    {
      "cell_type": "markdown",
      "metadata": {
        "id": "LUeOwlSBTopy"
      },
      "source": [
        "## **Analysing the Data**"
      ]
    },
    {
      "cell_type": "code",
      "metadata": {
        "colab": {
          "base_uri": "https://localhost:8080/",
          "height": 306
        },
        "id": "uYWRumg-RvHN",
        "outputId": "e7426c75-6f74-4822-f4b6-fd125a9d0bd6"
      },
      "source": [
        "import warnings\n",
        "%matplotlib inline\n",
        "import numpy as np\n",
        "from matplotlib import pyplot as plt\n",
        "\n",
        "df = pd.read_csv(\"Tele_com_customer_churn\")\n",
        "warnings.filterwarnings('ignore')\n",
        "df.sample(5)\n"
      ],
      "execution_count": null,
      "outputs": [
        {
          "output_type": "execute_result",
          "data": {
            "text/html": [
              "<div>\n",
              "<style scoped>\n",
              "    .dataframe tbody tr th:only-of-type {\n",
              "        vertical-align: middle;\n",
              "    }\n",
              "\n",
              "    .dataframe tbody tr th {\n",
              "        vertical-align: top;\n",
              "    }\n",
              "\n",
              "    .dataframe thead th {\n",
              "        text-align: right;\n",
              "    }\n",
              "</style>\n",
              "<table border=\"1\" class=\"dataframe\">\n",
              "  <thead>\n",
              "    <tr style=\"text-align: right;\">\n",
              "      <th></th>\n",
              "      <th>customerID</th>\n",
              "      <th>gender</th>\n",
              "      <th>SeniorCitizen</th>\n",
              "      <th>Partner</th>\n",
              "      <th>Dependents</th>\n",
              "      <th>tenure</th>\n",
              "      <th>PhoneService</th>\n",
              "      <th>MultipleLines</th>\n",
              "      <th>InternetService</th>\n",
              "      <th>OnlineSecurity</th>\n",
              "      <th>OnlineBackup</th>\n",
              "      <th>DeviceProtection</th>\n",
              "      <th>TechSupport</th>\n",
              "      <th>StreamingTV</th>\n",
              "      <th>StreamingMovies</th>\n",
              "      <th>Contract</th>\n",
              "      <th>PaperlessBilling</th>\n",
              "      <th>PaymentMethod</th>\n",
              "      <th>MonthlyCharges</th>\n",
              "      <th>TotalCharges</th>\n",
              "      <th>Churn</th>\n",
              "    </tr>\n",
              "  </thead>\n",
              "  <tbody>\n",
              "    <tr>\n",
              "      <th>2748</th>\n",
              "      <td>2495-INZWQ</td>\n",
              "      <td>Male</td>\n",
              "      <td>0</td>\n",
              "      <td>No</td>\n",
              "      <td>No</td>\n",
              "      <td>4</td>\n",
              "      <td>No</td>\n",
              "      <td>No phone service</td>\n",
              "      <td>DSL</td>\n",
              "      <td>No</td>\n",
              "      <td>No</td>\n",
              "      <td>No</td>\n",
              "      <td>No</td>\n",
              "      <td>Yes</td>\n",
              "      <td>Yes</td>\n",
              "      <td>Month-to-month</td>\n",
              "      <td>Yes</td>\n",
              "      <td>Electronic check</td>\n",
              "      <td>44.55</td>\n",
              "      <td>174.3</td>\n",
              "      <td>Yes</td>\n",
              "    </tr>\n",
              "    <tr>\n",
              "      <th>518</th>\n",
              "      <td>0257-ZESQC</td>\n",
              "      <td>Female</td>\n",
              "      <td>1</td>\n",
              "      <td>Yes</td>\n",
              "      <td>No</td>\n",
              "      <td>27</td>\n",
              "      <td>Yes</td>\n",
              "      <td>No</td>\n",
              "      <td>Fiber optic</td>\n",
              "      <td>Yes</td>\n",
              "      <td>No</td>\n",
              "      <td>No</td>\n",
              "      <td>No</td>\n",
              "      <td>No</td>\n",
              "      <td>No</td>\n",
              "      <td>Month-to-month</td>\n",
              "      <td>Yes</td>\n",
              "      <td>Bank transfer (automatic)</td>\n",
              "      <td>75.20</td>\n",
              "      <td>1929.35</td>\n",
              "      <td>Yes</td>\n",
              "    </tr>\n",
              "    <tr>\n",
              "      <th>1705</th>\n",
              "      <td>4918-FYJNT</td>\n",
              "      <td>Female</td>\n",
              "      <td>1</td>\n",
              "      <td>Yes</td>\n",
              "      <td>No</td>\n",
              "      <td>55</td>\n",
              "      <td>Yes</td>\n",
              "      <td>Yes</td>\n",
              "      <td>Fiber optic</td>\n",
              "      <td>No</td>\n",
              "      <td>Yes</td>\n",
              "      <td>Yes</td>\n",
              "      <td>Yes</td>\n",
              "      <td>No</td>\n",
              "      <td>No</td>\n",
              "      <td>Month-to-month</td>\n",
              "      <td>No</td>\n",
              "      <td>Electronic check</td>\n",
              "      <td>90.45</td>\n",
              "      <td>5044.8</td>\n",
              "      <td>No</td>\n",
              "    </tr>\n",
              "    <tr>\n",
              "      <th>6794</th>\n",
              "      <td>1047-RNXZV</td>\n",
              "      <td>Male</td>\n",
              "      <td>0</td>\n",
              "      <td>No</td>\n",
              "      <td>No</td>\n",
              "      <td>43</td>\n",
              "      <td>Yes</td>\n",
              "      <td>No</td>\n",
              "      <td>No</td>\n",
              "      <td>No internet service</td>\n",
              "      <td>No internet service</td>\n",
              "      <td>No internet service</td>\n",
              "      <td>No internet service</td>\n",
              "      <td>No internet service</td>\n",
              "      <td>No internet service</td>\n",
              "      <td>Two year</td>\n",
              "      <td>No</td>\n",
              "      <td>Mailed check</td>\n",
              "      <td>19.55</td>\n",
              "      <td>876.15</td>\n",
              "      <td>No</td>\n",
              "    </tr>\n",
              "    <tr>\n",
              "      <th>6071</th>\n",
              "      <td>0401-WDBXM</td>\n",
              "      <td>Male</td>\n",
              "      <td>0</td>\n",
              "      <td>Yes</td>\n",
              "      <td>Yes</td>\n",
              "      <td>72</td>\n",
              "      <td>Yes</td>\n",
              "      <td>Yes</td>\n",
              "      <td>Fiber optic</td>\n",
              "      <td>Yes</td>\n",
              "      <td>No</td>\n",
              "      <td>Yes</td>\n",
              "      <td>No</td>\n",
              "      <td>Yes</td>\n",
              "      <td>Yes</td>\n",
              "      <td>Two year</td>\n",
              "      <td>Yes</td>\n",
              "      <td>Bank transfer (automatic)</td>\n",
              "      <td>105.55</td>\n",
              "      <td>7542.25</td>\n",
              "      <td>No</td>\n",
              "    </tr>\n",
              "  </tbody>\n",
              "</table>\n",
              "</div>"
            ],
            "text/plain": [
              "      customerID  gender  SeniorCitizen  ... MonthlyCharges TotalCharges  Churn\n",
              "2748  2495-INZWQ    Male              0  ...          44.55        174.3    Yes\n",
              "518   0257-ZESQC  Female              1  ...          75.20      1929.35    Yes\n",
              "1705  4918-FYJNT  Female              1  ...          90.45       5044.8     No\n",
              "6794  1047-RNXZV    Male              0  ...          19.55       876.15     No\n",
              "6071  0401-WDBXM    Male              0  ...         105.55      7542.25     No\n",
              "\n",
              "[5 rows x 21 columns]"
            ]
          },
          "metadata": {
            "tags": []
          },
          "execution_count": 5
        }
      ]
    },
    {
      "cell_type": "code",
      "metadata": {
        "colab": {
          "base_uri": "https://localhost:8080/"
        },
        "id": "__qA9Dqa4Ipi",
        "outputId": "77ebe917-790b-4c22-bf8a-3fc82dc03cbc"
      },
      "source": [
        "df.dtypes"
      ],
      "execution_count": null,
      "outputs": [
        {
          "output_type": "execute_result",
          "data": {
            "text/plain": [
              "customerID           object\n",
              "gender               object\n",
              "SeniorCitizen         int64\n",
              "Partner              object\n",
              "Dependents           object\n",
              "tenure                int64\n",
              "PhoneService         object\n",
              "MultipleLines        object\n",
              "InternetService      object\n",
              "OnlineSecurity       object\n",
              "OnlineBackup         object\n",
              "DeviceProtection     object\n",
              "TechSupport          object\n",
              "StreamingTV          object\n",
              "StreamingMovies      object\n",
              "Contract             object\n",
              "PaperlessBilling     object\n",
              "PaymentMethod        object\n",
              "MonthlyCharges      float64\n",
              "TotalCharges         object\n",
              "Churn                object\n",
              "dtype: object"
            ]
          },
          "metadata": {
            "tags": []
          },
          "execution_count": 6
        }
      ]
    },
    {
      "cell_type": "code",
      "metadata": {
        "id": "dK8lwv6ErZaM"
      },
      "source": [
        "df.drop('customerID',axis='columns',inplace=True)\n",
        "\n",
        "df[pd.to_numeric(df.TotalCharges, errors='coerce').isnull()]\n",
        "df = df[df.TotalCharges !=' ']\n",
        "df.TotalCharges = pd.to_numeric(df.TotalCharges)"
      ],
      "execution_count": null,
      "outputs": []
    },
    {
      "cell_type": "code",
      "metadata": {
        "colab": {
          "base_uri": "https://localhost:8080/",
          "height": 312
        },
        "id": "R8gwfeA_VvN-",
        "outputId": "fbb67609-ca91-4098-9f83-eab4ed7b4cc4"
      },
      "source": [
        "tenure_churn_no =df[df.Churn=='No'].tenure\n",
        "tenure_churn_yes =df[df.Churn=='Yes'].tenure\n",
        "\n",
        "from matplotlib import pyplot as plt\n",
        "%matplotlib inline\n",
        "\n",
        "plt.xlabel(\"TENURE\")\n",
        "plt.ylabel(\"NUMBER OF CUSTOMERS\")\n",
        "plt.title(\"Customer_Churn_Prediction_Visualization\")\n",
        "\n",
        "plt.hist([tenure_churn_yes, tenure_churn_no], color=['red', 'green'], label=['Churn = Leaving', 'Churn = Not_Leaving'])\n",
        "plt.legend()"
      ],
      "execution_count": null,
      "outputs": [
        {
          "output_type": "execute_result",
          "data": {
            "text/plain": [
              "<matplotlib.legend.Legend at 0x7efe703eec50>"
            ]
          },
          "metadata": {
            "tags": []
          },
          "execution_count": 8
        },
        {
          "output_type": "display_data",
          "data": {
            "image/png": "[encoded data removed]",
            "text/plain": [
              "<Figure size 432x288 with 1 Axes>"
            ]
          },
          "metadata": {
            "tags": [],
            "needs_background": "light"
          }
        }
      ]
    },
    {
      "cell_type": "code",
      "metadata": {
        "colab": {
          "base_uri": "https://localhost:8080/",
          "height": 313
        },
        "id": "_88DB_NeX7m4",
        "outputId": "1392974d-0103-49d8-8eed-32c22543c88c"
      },
      "source": [
        "mc_churn_no = df[df.Churn=='No'].MonthlyCharges\n",
        "mc_churn_yes = df[df.Churn=='Yes'].MonthlyCharges\n",
        "plt.xlabel(\"Monthly_charges\")\n",
        "plt.ylabel(\"NUMBER OF CUSTOMERS\")\n",
        "plt.title(\"Customer_Churn_Prediction_Visualization\")\n",
        "\n",
        "plt.hist([mc_churn_yes, mc_churn_no], rwidth=0.95, color=['red', 'green'], label=['Churn = Leaving', 'Churn = Not_Leaving'])\n",
        "plt.legend()"
      ],
      "execution_count": null,
      "outputs": [
        {
          "output_type": "execute_result",
          "data": {
            "text/plain": [
              "<matplotlib.legend.Legend at 0x7efe704ab910>"
            ]
          },
          "metadata": {
            "tags": []
          },
          "execution_count": 9
        },
        {
          "output_type": "display_data",
          "data": {
            "image/png": "[encoded data removed]",
            "text/plain": [
              "<Figure size 432x288 with 1 Axes>"
            ]
          },
          "metadata": {
            "tags": [],
            "needs_background": "light"
          }
        }
      ]
    },
    {
      "cell_type": "code",
      "metadata": {
        "id": "tz6QaSB2bzkv"
      },
      "source": [
        "def print_unique_columns(df):\n",
        "    for column in df:\n",
        "       if df[column].dtypes=='object':\n",
        "            print(f'{column}: {df[column].unique()}')"
      ],
      "execution_count": null,
      "outputs": []
    },
    {
      "cell_type": "markdown",
      "metadata": {
        "id": "QDm80plM5Tsc"
      },
      "source": [
        "## **Recreating the Data**"
      ]
    },
    {
      "cell_type": "code",
      "metadata": {
        "colab": {
          "base_uri": "https://localhost:8080/"
        },
        "id": "ymQIIqXTc1Ox",
        "outputId": "57b989d7-fb05-45e8-f46b-e84b713e9bcf"
      },
      "source": [
        "print_unique_columns(df)"
      ],
      "execution_count": null,
      "outputs": [
        {
          "output_type": "stream",
          "text": [
            "gender: ['Female' 'Male']\n",
            "Partner: ['Yes' 'No']\n",
            "Dependents: ['No' 'Yes']\n",
            "PhoneService: ['No' 'Yes']\n",
            "MultipleLines: ['No phone service' 'No' 'Yes']\n",
            "InternetService: ['DSL' 'Fiber optic' 'No']\n",
            "OnlineSecurity: ['No' 'Yes' 'No internet service']\n",
            "OnlineBackup: ['Yes' 'No' 'No internet service']\n",
            "DeviceProtection: ['No' 'Yes' 'No internet service']\n",
            "TechSupport: ['No' 'Yes' 'No internet service']\n",
            "StreamingTV: ['No' 'Yes' 'No internet service']\n",
            "StreamingMovies: ['No' 'Yes' 'No internet service']\n",
            "Contract: ['Month-to-month' 'One year' 'Two year']\n",
            "PaperlessBilling: ['Yes' 'No']\n",
            "PaymentMethod: ['Electronic check' 'Mailed check' 'Bank transfer (automatic)'\n",
            " 'Credit card (automatic)']\n",
            "Churn: ['No' 'Yes']\n"
          ],
          "name": "stdout"
        }
      ]
    },
    {
      "cell_type": "code",
      "metadata": {
        "id": "1PzCuRqXcrjn"
      },
      "source": [
        "df.replace('No internet service','No', inplace=True)\n",
        "df.replace('No phone service','No', inplace=True)"
      ],
      "execution_count": null,
      "outputs": []
    },
    {
      "cell_type": "code",
      "metadata": {
        "id": "Q1amF-qCdEuA"
      },
      "source": [
        "yes_no_columns = ['PhoneService', 'MultipleLines', 'Partner', 'Dependents', 'OnlineSecurity', 'OnlineBackup', 'DeviceProtection', 'TechSupport', 'StreamingTV', 'StreamingMovies', 'PaperlessBilling', 'Churn']\n",
        "\n",
        "for col in yes_no_columns:\n",
        "    df[col].replace({\"Yes\": 1, \"No\": 0}, inplace=True)"
      ],
      "execution_count": null,
      "outputs": []
    },
    {
      "cell_type": "code",
      "metadata": {
        "id": "jppnQYl6dFQu"
      },
      "source": [
        "df['gender'].replace({\"Female\":1, \"Male\":0}, inplace = True)"
      ],
      "execution_count": null,
      "outputs": []
    },
    {
      "cell_type": "markdown",
      "metadata": {
        "id": "2bMG6bGEl8qx"
      },
      "source": [
        "## **One Hot Encoding**"
      ]
    },
    {
      "cell_type": "code",
      "metadata": {
        "id": "jekWUse41LQk"
      },
      "source": [
        "df = pd.get_dummies(data= df, columns=['InternetService', 'Contract', 'PaymentMethod'])"
      ],
      "execution_count": null,
      "outputs": []
    },
    {
      "cell_type": "code",
      "metadata": {
        "colab": {
          "base_uri": "https://localhost:8080/"
        },
        "id": "p1WzVgxqkz89",
        "outputId": "1c7fc250-02ce-487d-a142-b75de43eee5d"
      },
      "source": [
        "df.dtypes"
      ],
      "execution_count": null,
      "outputs": [
        {
          "output_type": "execute_result",
          "data": {
            "text/plain": [
              "gender                                       int64\n",
              "SeniorCitizen                                int64\n",
              "Partner                                      int64\n",
              "Dependents                                   int64\n",
              "tenure                                       int64\n",
              "PhoneService                                 int64\n",
              "MultipleLines                                int64\n",
              "OnlineSecurity                               int64\n",
              "OnlineBackup                                 int64\n",
              "DeviceProtection                             int64\n",
              "TechSupport                                  int64\n",
              "StreamingTV                                  int64\n",
              "StreamingMovies                              int64\n",
              "PaperlessBilling                             int64\n",
              "MonthlyCharges                             float64\n",
              "TotalCharges                               float64\n",
              "Churn                                        int64\n",
              "InternetService_DSL                          uint8\n",
              "InternetService_Fiber optic                  uint8\n",
              "InternetService_No                           uint8\n",
              "Contract_Month-to-month                      uint8\n",
              "Contract_One year                            uint8\n",
              "Contract_Two year                            uint8\n",
              "PaymentMethod_Bank transfer (automatic)      uint8\n",
              "PaymentMethod_Credit card (automatic)        uint8\n",
              "PaymentMethod_Electronic check               uint8\n",
              "PaymentMethod_Mailed check                   uint8\n",
              "dtype: object"
            ]
          },
          "metadata": {
            "tags": []
          },
          "execution_count": 16
        }
      ]
    },
    {
      "cell_type": "markdown",
      "metadata": {
        "id": "qTW9U54Fp7C2"
      },
      "source": [
        "## **Scaling tha Data**"
      ]
    },
    {
      "cell_type": "code",
      "metadata": {
        "colab": {
          "base_uri": "https://localhost:8080/"
        },
        "id": "ub1C94cSpbAC",
        "outputId": "b9157e37-385e-4fbe-8640-bddffe05df3b"
      },
      "source": [
        "cols_to_scale = ['tenure','MonthlyCharges','TotalCharges']\n",
        "\n",
        "from sklearn.preprocessing import MinMaxScaler\n",
        "scaler = MinMaxScaler()\n",
        "df[cols_to_scale] = scaler.fit_transform(df[cols_to_scale])\n",
        "\n",
        "for col in df:\n",
        "    print(f'{col}: {df[col].unique()}')"
      ],
      "execution_count": null,
      "outputs": [
        {
          "output_type": "stream",
          "text": [
            "gender: [1 0]\n",
            "SeniorCitizen: [0 1]\n",
            "Partner: [1 0]\n",
            "Dependents: [0 1]\n",
            "tenure: [0.         0.46478873 0.01408451 0.61971831 0.09859155 0.29577465\n",
            " 0.12676056 0.38028169 0.85915493 0.16901408 0.21126761 0.8028169\n",
            " 0.67605634 0.33802817 0.95774648 0.71830986 0.98591549 0.28169014\n",
            " 0.15492958 0.4084507  0.64788732 1.         0.22535211 0.36619718\n",
            " 0.05633803 0.63380282 0.14084507 0.97183099 0.87323944 0.5915493\n",
            " 0.1971831  0.83098592 0.23943662 0.91549296 0.11267606 0.02816901\n",
            " 0.42253521 0.69014085 0.88732394 0.77464789 0.08450704 0.57746479\n",
            " 0.47887324 0.66197183 0.3943662  0.90140845 0.52112676 0.94366197\n",
            " 0.43661972 0.76056338 0.50704225 0.49295775 0.56338028 0.07042254\n",
            " 0.04225352 0.45070423 0.92957746 0.30985915 0.78873239 0.84507042\n",
            " 0.18309859 0.26760563 0.73239437 0.54929577 0.81690141 0.32394366\n",
            " 0.6056338  0.25352113 0.74647887 0.70422535 0.35211268 0.53521127]\n",
            "PhoneService: [0 1]\n",
            "MultipleLines: [0 1]\n",
            "OnlineSecurity: [0 1]\n",
            "OnlineBackup: [1 0]\n",
            "DeviceProtection: [0 1]\n",
            "TechSupport: [0 1]\n",
            "StreamingTV: [0 1]\n",
            "StreamingMovies: [0 1]\n",
            "PaperlessBilling: [1 0]\n",
            "MonthlyCharges: [0.11542289 0.38507463 0.35422886 ... 0.44626866 0.25820896 0.60149254]\n",
            "TotalCharges: [0.0012751  0.21586661 0.01031041 ... 0.03780868 0.03321025 0.78764136]\n",
            "Churn: [0 1]\n",
            "InternetService_DSL: [1 0]\n",
            "InternetService_Fiber optic: [0 1]\n",
            "InternetService_No: [0 1]\n",
            "Contract_Month-to-month: [1 0]\n",
            "Contract_One year: [0 1]\n",
            "Contract_Two year: [0 1]\n",
            "PaymentMethod_Bank transfer (automatic): [0 1]\n",
            "PaymentMethod_Credit card (automatic): [0 1]\n",
            "PaymentMethod_Electronic check: [1 0]\n",
            "PaymentMethod_Mailed check: [0 1]\n"
          ],
          "name": "stdout"
        }
      ]
    },
    {
      "cell_type": "markdown",
      "metadata": {
        "id": "aXs4hmwUp_CM"
      },
      "source": [
        "## **SMOTE**"
      ]
    },
    {
      "cell_type": "code",
      "metadata": {
        "colab": {
          "base_uri": "https://localhost:8080/"
        },
        "id": "i80wdi0g7K8_",
        "outputId": "dddcf88a-8f1c-459a-92ca-ca132c940b10"
      },
      "source": [
        "churn_yes = df[df.Churn == 0]\n",
        "churn_no = df[df.Churn != 0]\n",
        "print(len(churn_yes), len(churn_no))"
      ],
      "execution_count": null,
      "outputs": [
        {
          "output_type": "stream",
          "text": [
            "5163 1869\n"
          ],
          "name": "stdout"
        }
      ]
    },
    {
      "cell_type": "code",
      "metadata": {
        "id": "4xgvbsKxpwpK",
        "colab": {
          "base_uri": "https://localhost:8080/"
        },
        "outputId": "1f19750e-3046-40c3-8135-eef5b6754b87"
      },
      "source": [
        "X = df.drop('Churn',axis='columns')\n",
        "y = df['Churn']\n",
        "from imblearn.over_sampling import SMOTE\n",
        "smote = SMOTE(sampling_strategy='minority')\n",
        "X_sm, y_sm = smote.fit_sample(X, y)\n",
        "print(len(X_sm), len(y_sm))"
      ],
      "execution_count": null,
      "outputs": [
        {
          "output_type": "stream",
          "text": [
            "10326 10326\n"
          ],
          "name": "stdout"
        }
      ]
    },
    {
      "cell_type": "markdown",
      "metadata": {
        "id": "FxcS2iQy65ma"
      },
      "source": [
        "## **Splitting the Data into Train and Test**"
      ]
    },
    {
      "cell_type": "code",
      "metadata": {
        "id": "_kTzkqdsgzGL"
      },
      "source": [
        "from sklearn.model_selection import train_test_split\n",
        "X_train, X_test, y_train, y_test = train_test_split(X_sm, y_sm, test_size=0.2, random_state=15, stratify=y_sm)"
      ],
      "execution_count": null,
      "outputs": []
    },
    {
      "cell_type": "markdown",
      "metadata": {
        "id": "CEX2XbUHqcuI"
      },
      "source": [
        "## **Intoducing ANN to train the model**"
      ]
    },
    {
      "cell_type": "code",
      "metadata": {
        "colab": {
          "base_uri": "https://localhost:8080/"
        },
        "id": "Kq3-v2XljLKX",
        "outputId": "8b92a02e-3698-4b23-bcf7-238bb1134b54"
      },
      "source": [
        "pip install tensorflow-addons"
      ],
      "execution_count": null,
      "outputs": [
        {
          "output_type": "stream",
          "text": [
            "Collecting tensorflow-addons\n",
            "  Downloading tensorflow_addons-0.13.0-cp37-cp37m-manylinux2010_x86_64.whl (679 kB)\n",
            "\u001b[K     |████████████████████████████████| 679 kB 5.6 MB/s \n",
            "\u001b[?25hRequirement already satisfied: typeguard>=2.7 in /usr/local/lib/python3.7/dist-packages (from tensorflow-addons) (2.7.1)\n",
            "Installing collected packages: tensorflow-addons\n",
            "Successfully installed tensorflow-addons-0.13.0\n"
          ],
          "name": "stdout"
        }
      ]
    },
    {
      "cell_type": "code",
      "metadata": {
        "id": "nz_5tK7PqcEF"
      },
      "source": [
        "import tensorflow as tf\n",
        "from tensorflow import keras\n",
        "from tensorflow_addons import losses\n",
        "from sklearn.metrics import confusion_matrix , classification_report"
      ],
      "execution_count": null,
      "outputs": []
    },
    {
      "cell_type": "code",
      "metadata": {
        "id": "Z2D2NFGyf33N",
        "colab": {
          "base_uri": "https://localhost:8080/"
        },
        "outputId": "c8d0190b-0c83-448f-fe84-2f600ee7ab23"
      },
      "source": [
        "    min_loss = 1000\n",
        "    weights = -1\n",
        "    model = keras.Sequential([\n",
        "        keras.layers.Dense(32, input_dim=26, activation='relu'),\n",
        "        keras.layers.Dropout(0.5),\n",
        "        keras.layers.Dense(26, activation='relu'),\n",
        "        keras.layers.Dropout(0.5),\n",
        "        keras.layers.Dense(13, activation='relu'),\n",
        "        keras.layers.Dropout(0.2),\n",
        "        keras.layers.Dense(7, activation='relu'),\n",
        "        keras.layers.Dense(1, activation='sigmoid')\n",
        "    ])\n",
        "\n",
        "    model.compile(optimizer='adam', loss='binary_crossentropy', metrics=['accuracy'])\n",
        "    if weights == -1:\n",
        "        model.fit(X_train, y_train, epochs=100, batch_size=16)\n",
        "    else:\n",
        "        model.fit(X_train, y_train, epochs=100, batch_size=16, class_weight = weights)\n",
        "    \n",
        "    print(model.evaluate(X_test, y_test))\n",
        "    \n",
        "    y_preds = model.predict(X_test)\n",
        "    y_preds = np.round(y_preds)"
      ],
      "execution_count": null,
      "outputs": [
        {
          "output_type": "stream",
          "text": [
            "Epoch 1/100\n",
            "517/517 [==============================] - 2s 2ms/step - loss: 0.6494 - accuracy: 0.6165\n",
            "Epoch 2/100\n",
            "517/517 [==============================] - 1s 2ms/step - loss: 0.5471 - accuracy: 0.7335\n",
            "Epoch 3/100\n",
            "517/517 [==============================] - 1s 2ms/step - loss: 0.5302 - accuracy: 0.7496\n",
            "Epoch 4/100\n",
            "517/517 [==============================] - 1s 2ms/step - loss: 0.5189 - accuracy: 0.7515\n",
            "Epoch 5/100\n",
            "517/517 [==============================] - 1s 2ms/step - loss: 0.5065 - accuracy: 0.7611\n",
            "Epoch 6/100\n",
            "517/517 [==============================] - 1s 2ms/step - loss: 0.4985 - accuracy: 0.7676\n",
            "Epoch 7/100\n",
            "517/517 [==============================] - 1s 2ms/step - loss: 0.4947 - accuracy: 0.7696\n",
            "Epoch 8/100\n",
            "517/517 [==============================] - 1s 2ms/step - loss: 0.4951 - accuracy: 0.7680\n",
            "Epoch 9/100\n",
            "517/517 [==============================] - 1s 2ms/step - loss: 0.4880 - accuracy: 0.7714\n",
            "Epoch 10/100\n",
            "517/517 [==============================] - 1s 2ms/step - loss: 0.4846 - accuracy: 0.7730\n",
            "Epoch 11/100\n",
            "517/517 [==============================] - 1s 2ms/step - loss: 0.4847 - accuracy: 0.7717\n",
            "Epoch 12/100\n",
            "517/517 [==============================] - 1s 2ms/step - loss: 0.4790 - accuracy: 0.7772\n",
            "Epoch 13/100\n",
            "517/517 [==============================] - 1s 2ms/step - loss: 0.4837 - accuracy: 0.7748\n",
            "Epoch 14/100\n",
            "517/517 [==============================] - 1s 2ms/step - loss: 0.4761 - accuracy: 0.7794\n",
            "Epoch 15/100\n",
            "517/517 [==============================] - 1s 2ms/step - loss: 0.4728 - accuracy: 0.7782\n",
            "Epoch 16/100\n",
            "517/517 [==============================] - 1s 2ms/step - loss: 0.4720 - accuracy: 0.7827\n",
            "Epoch 17/100\n",
            "517/517 [==============================] - 1s 2ms/step - loss: 0.4754 - accuracy: 0.7766\n",
            "Epoch 18/100\n",
            "517/517 [==============================] - 1s 2ms/step - loss: 0.4742 - accuracy: 0.7827\n",
            "Epoch 19/100\n",
            "517/517 [==============================] - 1s 2ms/step - loss: 0.4716 - accuracy: 0.7762\n",
            "Epoch 20/100\n",
            "517/517 [==============================] - 1s 2ms/step - loss: 0.4676 - accuracy: 0.7801\n",
            "Epoch 21/100\n",
            "517/517 [==============================] - 1s 2ms/step - loss: 0.4684 - accuracy: 0.7810\n",
            "Epoch 22/100\n",
            "517/517 [==============================] - 1s 2ms/step - loss: 0.4717 - accuracy: 0.7808\n",
            "Epoch 23/100\n",
            "517/517 [==============================] - 1s 2ms/step - loss: 0.4672 - accuracy: 0.7808\n",
            "Epoch 24/100\n",
            "517/517 [==============================] - 1s 2ms/step - loss: 0.4643 - accuracy: 0.7833\n",
            "Epoch 25/100\n",
            "517/517 [==============================] - 1s 2ms/step - loss: 0.4628 - accuracy: 0.7846\n",
            "Epoch 26/100\n",
            "517/517 [==============================] - 1s 2ms/step - loss: 0.4632 - accuracy: 0.7866\n",
            "Epoch 27/100\n",
            "517/517 [==============================] - 1s 2ms/step - loss: 0.4622 - accuracy: 0.7866\n",
            "Epoch 28/100\n",
            "517/517 [==============================] - 1s 2ms/step - loss: 0.4614 - accuracy: 0.7870\n",
            "Epoch 29/100\n",
            "517/517 [==============================] - 1s 2ms/step - loss: 0.4592 - accuracy: 0.7856\n",
            "Epoch 30/100\n",
            "517/517 [==============================] - 1s 2ms/step - loss: 0.4595 - accuracy: 0.7906\n",
            "Epoch 31/100\n",
            "517/517 [==============================] - 1s 2ms/step - loss: 0.4549 - accuracy: 0.7904\n",
            "Epoch 32/100\n",
            "517/517 [==============================] - 1s 2ms/step - loss: 0.4557 - accuracy: 0.7861\n",
            "Epoch 33/100\n",
            "517/517 [==============================] - 1s 2ms/step - loss: 0.4565 - accuracy: 0.7870\n",
            "Epoch 34/100\n",
            "517/517 [==============================] - 1s 2ms/step - loss: 0.4581 - accuracy: 0.7885\n",
            "Epoch 35/100\n",
            "517/517 [==============================] - 1s 2ms/step - loss: 0.4550 - accuracy: 0.7909\n",
            "Epoch 36/100\n",
            "517/517 [==============================] - 1s 2ms/step - loss: 0.4562 - accuracy: 0.7916\n",
            "Epoch 37/100\n",
            "517/517 [==============================] - 1s 2ms/step - loss: 0.4551 - accuracy: 0.7898\n",
            "Epoch 38/100\n",
            "517/517 [==============================] - 1s 2ms/step - loss: 0.4540 - accuracy: 0.7879\n",
            "Epoch 39/100\n",
            "517/517 [==============================] - 1s 2ms/step - loss: 0.4556 - accuracy: 0.7895\n",
            "Epoch 40/100\n",
            "517/517 [==============================] - 1s 2ms/step - loss: 0.4511 - accuracy: 0.7921\n",
            "Epoch 41/100\n",
            "517/517 [==============================] - 1s 2ms/step - loss: 0.4531 - accuracy: 0.7897\n",
            "Epoch 42/100\n",
            "517/517 [==============================] - 1s 2ms/step - loss: 0.4521 - accuracy: 0.7867\n",
            "Epoch 43/100\n",
            "517/517 [==============================] - 1s 2ms/step - loss: 0.4520 - accuracy: 0.7912\n",
            "Epoch 44/100\n",
            "517/517 [==============================] - 1s 2ms/step - loss: 0.4515 - accuracy: 0.7918\n",
            "Epoch 45/100\n",
            "517/517 [==============================] - 1s 2ms/step - loss: 0.4556 - accuracy: 0.7883\n",
            "Epoch 46/100\n",
            "517/517 [==============================] - 1s 2ms/step - loss: 0.4517 - accuracy: 0.7880\n",
            "Epoch 47/100\n",
            "517/517 [==============================] - 1s 2ms/step - loss: 0.4477 - accuracy: 0.7913\n",
            "Epoch 48/100\n",
            "517/517 [==============================] - 1s 2ms/step - loss: 0.4484 - accuracy: 0.7943\n",
            "Epoch 49/100\n",
            "517/517 [==============================] - 1s 2ms/step - loss: 0.4474 - accuracy: 0.7918\n",
            "Epoch 50/100\n",
            "517/517 [==============================] - 1s 2ms/step - loss: 0.4478 - accuracy: 0.7901\n",
            "Epoch 51/100\n",
            "517/517 [==============================] - 1s 2ms/step - loss: 0.4473 - accuracy: 0.7930\n",
            "Epoch 52/100\n",
            "517/517 [==============================] - 1s 2ms/step - loss: 0.4481 - accuracy: 0.7910\n",
            "Epoch 53/100\n",
            "517/517 [==============================] - 1s 2ms/step - loss: 0.4529 - accuracy: 0.7827\n",
            "Epoch 54/100\n",
            "517/517 [==============================] - 1s 2ms/step - loss: 0.4488 - accuracy: 0.7885\n",
            "Epoch 55/100\n",
            "517/517 [==============================] - 1s 2ms/step - loss: 0.4470 - accuracy: 0.7890\n",
            "Epoch 56/100\n",
            "517/517 [==============================] - 1s 2ms/step - loss: 0.4461 - accuracy: 0.7895\n",
            "Epoch 57/100\n",
            "517/517 [==============================] - 1s 2ms/step - loss: 0.4453 - accuracy: 0.7864\n",
            "Epoch 58/100\n",
            "517/517 [==============================] - 1s 2ms/step - loss: 0.4446 - accuracy: 0.7901\n",
            "Epoch 59/100\n",
            "517/517 [==============================] - 1s 2ms/step - loss: 0.4452 - accuracy: 0.7920\n",
            "Epoch 60/100\n",
            "517/517 [==============================] - 1s 2ms/step - loss: 0.4515 - accuracy: 0.7898\n",
            "Epoch 61/100\n",
            "517/517 [==============================] - 1s 2ms/step - loss: 0.4428 - accuracy: 0.7900\n",
            "Epoch 62/100\n",
            "517/517 [==============================] - 1s 2ms/step - loss: 0.4415 - accuracy: 0.7967\n",
            "Epoch 63/100\n",
            "517/517 [==============================] - 1s 2ms/step - loss: 0.4424 - accuracy: 0.7948\n",
            "Epoch 64/100\n",
            "517/517 [==============================] - 1s 2ms/step - loss: 0.4459 - accuracy: 0.7930\n",
            "Epoch 65/100\n",
            "517/517 [==============================] - 1s 2ms/step - loss: 0.4471 - accuracy: 0.7897\n",
            "Epoch 66/100\n",
            "517/517 [==============================] - 1s 2ms/step - loss: 0.4425 - accuracy: 0.7965\n",
            "Epoch 67/100\n",
            "517/517 [==============================] - 1s 2ms/step - loss: 0.4446 - accuracy: 0.7902\n",
            "Epoch 68/100\n",
            "517/517 [==============================] - 1s 2ms/step - loss: 0.4449 - accuracy: 0.7903\n",
            "Epoch 69/100\n",
            "517/517 [==============================] - 1s 2ms/step - loss: 0.4423 - accuracy: 0.7962\n",
            "Epoch 70/100\n",
            "517/517 [==============================] - 1s 2ms/step - loss: 0.4396 - accuracy: 0.7977\n",
            "Epoch 71/100\n",
            "517/517 [==============================] - 1s 2ms/step - loss: 0.4443 - accuracy: 0.7912\n",
            "Epoch 72/100\n",
            "517/517 [==============================] - 1s 2ms/step - loss: 0.4468 - accuracy: 0.7925\n",
            "Epoch 73/100\n",
            "517/517 [==============================] - 1s 2ms/step - loss: 0.4427 - accuracy: 0.7889\n",
            "Epoch 74/100\n",
            "517/517 [==============================] - 1s 2ms/step - loss: 0.4440 - accuracy: 0.7872\n",
            "Epoch 75/100\n",
            "517/517 [==============================] - 1s 2ms/step - loss: 0.4415 - accuracy: 0.7933\n",
            "Epoch 76/100\n",
            "517/517 [==============================] - 1s 2ms/step - loss: 0.4412 - accuracy: 0.7908\n",
            "Epoch 77/100\n",
            "517/517 [==============================] - 1s 2ms/step - loss: 0.4408 - accuracy: 0.7920\n",
            "Epoch 78/100\n",
            "517/517 [==============================] - 1s 2ms/step - loss: 0.4403 - accuracy: 0.7942\n",
            "Epoch 79/100\n",
            "517/517 [==============================] - 1s 2ms/step - loss: 0.4427 - accuracy: 0.7933\n",
            "Epoch 80/100\n",
            "517/517 [==============================] - 1s 2ms/step - loss: 0.4413 - accuracy: 0.7931\n",
            "Epoch 81/100\n",
            "517/517 [==============================] - 1s 2ms/step - loss: 0.4409 - accuracy: 0.7893\n",
            "Epoch 82/100\n",
            "517/517 [==============================] - 1s 2ms/step - loss: 0.4369 - accuracy: 0.7935\n",
            "Epoch 83/100\n",
            "517/517 [==============================] - 1s 2ms/step - loss: 0.4407 - accuracy: 0.7943\n",
            "Epoch 84/100\n",
            "517/517 [==============================] - 1s 2ms/step - loss: 0.4374 - accuracy: 0.7907\n",
            "Epoch 85/100\n",
            "517/517 [==============================] - 1s 2ms/step - loss: 0.4390 - accuracy: 0.7918\n",
            "Epoch 86/100\n",
            "517/517 [==============================] - 1s 2ms/step - loss: 0.4388 - accuracy: 0.7912\n",
            "Epoch 87/100\n",
            "517/517 [==============================] - 1s 2ms/step - loss: 0.4351 - accuracy: 0.7955\n",
            "Epoch 88/100\n",
            "517/517 [==============================] - 1s 2ms/step - loss: 0.4351 - accuracy: 0.7908\n",
            "Epoch 89/100\n",
            "517/517 [==============================] - 1s 2ms/step - loss: 0.4356 - accuracy: 0.7949\n",
            "Epoch 90/100\n",
            "517/517 [==============================] - 1s 2ms/step - loss: 0.4368 - accuracy: 0.7936\n",
            "Epoch 91/100\n",
            "517/517 [==============================] - 1s 2ms/step - loss: 0.4376 - accuracy: 0.7958\n",
            "Epoch 92/100\n",
            "517/517 [==============================] - 1s 2ms/step - loss: 0.4403 - accuracy: 0.7887\n",
            "Epoch 93/100\n",
            "517/517 [==============================] - 1s 2ms/step - loss: 0.4385 - accuracy: 0.7910\n",
            "Epoch 94/100\n",
            "517/517 [==============================] - 1s 2ms/step - loss: 0.4377 - accuracy: 0.7914\n",
            "Epoch 95/100\n",
            "517/517 [==============================] - 1s 2ms/step - loss: 0.4426 - accuracy: 0.7941\n",
            "Epoch 96/100\n",
            "517/517 [==============================] - 1s 2ms/step - loss: 0.4398 - accuracy: 0.7891\n",
            "Epoch 97/100\n",
            "517/517 [==============================] - 1s 2ms/step - loss: 0.4392 - accuracy: 0.7901\n",
            "Epoch 98/100\n",
            "517/517 [==============================] - 1s 2ms/step - loss: 0.4392 - accuracy: 0.7933\n",
            "Epoch 99/100\n",
            "517/517 [==============================] - 1s 2ms/step - loss: 0.4377 - accuracy: 0.7886\n",
            "Epoch 100/100\n",
            "517/517 [==============================] - 1s 2ms/step - loss: 0.4441 - accuracy: 0.7946\n",
            "65/65 [==============================] - 0s 1ms/step - loss: 0.4533 - accuracy: 0.7769\n",
            "[0.4532957673072815, 0.7768635153770447]\n"
          ],
          "name": "stdout"
        }
      ]
    },
    {
      "cell_type": "code",
      "metadata": {
        "colab": {
          "base_uri": "https://localhost:8080/"
        },
        "id": "L9tmM9z2mmOq",
        "outputId": "a809814c-8838-47af-8f8a-f0c47548ef14"
      },
      "source": [
        "print(\"Classification Report: \\n\", classification_report(y_test, y_preds))"
      ],
      "execution_count": null,
      "outputs": [
        {
          "output_type": "stream",
          "text": [
            "Classification Report: \n",
            "               precision    recall  f1-score   support\n",
            "\n",
            "           0       0.78      0.76      0.77      1033\n",
            "           1       0.77      0.79      0.78      1033\n",
            "\n",
            "    accuracy                           0.78      2066\n",
            "   macro avg       0.78      0.78      0.78      2066\n",
            "weighted avg       0.78      0.78      0.78      2066\n",
            "\n"
          ],
          "name": "stdout"
        }
      ]
    },
    {
      "cell_type": "code",
      "metadata": {
        "colab": {
          "base_uri": "https://localhost:8080/"
        },
        "id": "h6mw3KxbBU-T",
        "outputId": "ab32e87c-79a8-45c1-fdab-841ccfc28970"
      },
      "source": [
        "y_test[:10]"
      ],
      "execution_count": null,
      "outputs": [
        {
          "output_type": "execute_result",
          "data": {
            "text/plain": [
              "array([1, 0, 1, 1, 0, 0, 1, 0, 1, 1])"
            ]
          },
          "metadata": {
            "tags": []
          },
          "execution_count": 25
        }
      ]
    },
    {
      "cell_type": "code",
      "metadata": {
        "id": "ZSzLSbveBtn1"
      },
      "source": [
        "yp = model.predict(X_test)"
      ],
      "execution_count": null,
      "outputs": []
    },
    {
      "cell_type": "code",
      "metadata": {
        "id": "_2ZCHxYABYn_"
      },
      "source": [
        "y_pred = []\n",
        "for element in yp:\n",
        "    if element > 0.5:\n",
        "        y_pred.append(1)\n",
        "    else:\n",
        "        y_pred.append(0)"
      ],
      "execution_count": null,
      "outputs": []
    },
    {
      "cell_type": "code",
      "metadata": {
        "colab": {
          "base_uri": "https://localhost:8080/"
        },
        "id": "2HFNaNhOBqjD",
        "outputId": "707ae8b1-4451-459c-d776-7a923be11f43"
      },
      "source": [
        "y_pred[:10]"
      ],
      "execution_count": null,
      "outputs": [
        {
          "output_type": "execute_result",
          "data": {
            "text/plain": [
              "[1, 0, 1, 1, 0, 0, 0, 1, 1, 1]"
            ]
          },
          "metadata": {
            "tags": []
          },
          "execution_count": 30
        }
      ]
    },
    {
      "cell_type": "code",
      "metadata": {
        "colab": {
          "base_uri": "https://localhost:8080/",
          "height": 459
        },
        "id": "qmDPHWpwC5KL",
        "outputId": "6f0bb1ab-083d-4013-a5ec-b5afb4900595"
      },
      "source": [
        "import seaborn as sb\n",
        "c_m = tf.math.confusion_matrix(labels=y_test, predictions = y_pred)\n",
        "\n",
        "plt.figure(figsize = (10, 7))\n",
        "sb.heatmap(c_m, annot=True, fmt='d')\n",
        "plt.xlabel('Predicted')\n",
        "plt.ylabel('Truth')"
      ],
      "execution_count": null,
      "outputs": [
        {
          "output_type": "execute_result",
          "data": {
            "text/plain": [
              "Text(69.0, 0.5, 'Truth')"
            ]
          },
          "metadata": {
            "tags": []
          },
          "execution_count": 29
        },
        {
          "output_type": "display_data",
          "data": {
            "image/png": "[encoded data removed]",
            "text/plain": [
              "<Figure size 720x504 with 2 Axes>"
            ]
          },
          "metadata": {
            "tags": [],
            "needs_background": "light"
          }
        }
      ]
    },
    {
      "cell_type": "code",
      "metadata": {
        "id": "ywmJC0_nFMcp"
      },
      "source": [
        ""
      ],
      "execution_count": null,
      "outputs": []
    }
  ]
}